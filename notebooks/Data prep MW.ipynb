{
 "cells": [
  {
   "cell_type": "markdown",
   "id": "67de4a35-c08c-4dae-b74c-f8c5ca4b6733",
   "metadata": {},
   "source": [
    "# Mobility data prep (Matt)"
   ]
  },
  {
   "cell_type": "code",
   "execution_count": 1,
   "id": "768b528c-c06c-4d1a-ba6a-1ca94d500eef",
   "metadata": {
    "tags": []
   },
   "outputs": [],
   "source": [
    "# imports and setup\n",
    "from   ast import literal_eval\n",
    "from   collections import Counter, defaultdict\n",
    "from   geopy import distance\n",
    "from   itertools import pairwise\n",
    "import matplotlib.pyplot as plt\n",
    "import numpy as np\n",
    "import os\n",
    "import pandas as pd\n",
    "import random\n",
    "from   sklearn.linear_model import LinearRegression\n",
    "import seaborn as sns\n",
    "import string\n",
    "from   unidecode import unidecode\n",
    "\n",
    "data_dir = os.path.join('..', 'data')\n",
    "derived_dir = os.path.join(data_dir, 'derived')"
   ]
  },
  {
   "cell_type": "markdown",
   "id": "f654d317-01c5-47ba-b4e4-5cf4399f0e12",
   "metadata": {},
   "source": [
    "## Load derived data"
   ]
  },
  {
   "cell_type": "code",
   "execution_count": 2,
   "id": "c137454e-a1a9-4b29-b3a0-9817fab9651d",
   "metadata": {
    "tags": []
   },
   "outputs": [],
   "source": [
    "def string_to_list(x):\n",
    "    lst = literal_eval(x.replace(', nan', \"', ZZZZ'\").replace('[nan, ', \"'['\").replace(', nan]', \"']'\"))\n",
    "    return [i for i in lst if i != 'ZZZZ']\n",
    "\n",
    "conlit = pd.read_csv(\n",
    "    os.path.join(derived_dir, 'CONLIT_CharData_AP_5.csv.gz'), \n",
    "    index_col='book_id',\n",
    "    converters={\n",
    "        'gpe_places': string_to_list,\n",
    "        'nongpe_places': string_to_list,\n",
    "        'all_places': string_to_list,\n",
    "        'gpe_sequences': string_to_list\n",
    "    },\n",
    ")\n",
    "conlit = conlit.fillna('').drop(columns='X')"
   ]
  },
  {
   "cell_type": "markdown",
   "id": "2009fc1e-4663-4edc-bf48-c3202138f4d3",
   "metadata": {},
   "source": [
    "## CONLIT GPE distances"
   ]
  },
  {
   "cell_type": "code",
   "execution_count": 3,
   "id": "5e1c48c9-1b07-409a-a526-19edc2a12d89",
   "metadata": {
    "tags": []
   },
   "outputs": [
    {
     "data": {
      "text/plain": [
       "[('New York', 6683),\n",
       " ('London', 4367),\n",
       " ('Paris', 3673),\n",
       " ('America', 3477),\n",
       " ('Washington', 2412),\n",
       " ('England', 2087),\n",
       " ('California', 2064),\n",
       " ('Chicago', 2000),\n",
       " ('Boston', 1624),\n",
       " ('France', 1560),\n",
       " ('Rome', 1304),\n",
       " ('San Francisco', 1247),\n",
       " ('Los Angeles', 1247),\n",
       " ('Texas', 1047),\n",
       " ('New York City', 1046),\n",
       " ('Europe', 952),\n",
       " ('Berlin', 938),\n",
       " ('Manhattan', 908),\n",
       " ('Philadelphia', 862),\n",
       " ('Virginia', 854)]"
      ]
     },
     "execution_count": 3,
     "metadata": {},
     "output_type": "execute_result"
    }
   ],
   "source": [
    "gpe_counts = Counter()\n",
    "for i in conlit.gpe_places:\n",
    "    gpe_counts.update(i)\n",
    "gpe_counts.most_common(20)"
   ]
  },
  {
   "cell_type": "markdown",
   "id": "65d6fd6a-cf7e-4a6a-8e10-947adceaa92b",
   "metadata": {},
   "source": [
    "### Geonames"
   ]
  },
  {
   "cell_type": "code",
   "execution_count": 4,
   "id": "afa32a64-4661-4421-bb21-7c0aa53f5e4a",
   "metadata": {
    "tags": []
   },
   "outputs": [],
   "source": [
    "gn_col_names = [\n",
    "    'geonameid',\n",
    "    'name',\n",
    "    'asciiname',\n",
    "    'alternatenames',\n",
    "    'lat',\n",
    "    'lon',\n",
    "    'feature_class',\n",
    "    'feature_code',\n",
    "    'country_code',\n",
    "    'cc2',\n",
    "    'admin1_code',\n",
    "    'admin2_code',\n",
    "    'admin3_code',\n",
    "    'admin4_code',\n",
    "    'population',\n",
    "    'elevation',\n",
    "    'dem',\n",
    "    'timezone',\n",
    "    'mod_date'\n",
    "]\n",
    "gn = pd.read_csv(\n",
    "    os.path.join(data_dir, 'geonames', 'allCountries.zip'), \n",
    "    sep='\\t',\n",
    "    names=gn_col_names,\n",
    "    index_col=0,\n",
    "    low_memory=False\n",
    ")\n",
    "\n",
    "gn_gpes = Counter()\n",
    "for i in conlit.gpe_places:\n",
    "    gn_gpes.update(i)\n",
    "gn = gn.loc[gn.name.isin(gn_gpes)]\n",
    "\n",
    "# retain only most-populous place per unique name\n",
    "gn = gn.sort_values(by='population', ascending=False).drop_duplicates(subset=['name']).set_index('name')"
   ]
  },
  {
   "cell_type": "code",
   "execution_count": 5,
   "id": "34af0f6a-4d7a-42ff-bc49-ff6c8b1e865c",
   "metadata": {
    "tags": []
   },
   "outputs": [],
   "source": [
    "# not used in current implementation\n",
    "hierarchy = pd.read_csv(\n",
    "    os.path.join(data_dir, 'geonames', 'hierarchy.zip'), \n",
    "    sep='\\t',\n",
    "    names=['parent', 'child', 'type']\n",
    ")\n",
    "\n",
    "feature_codes = pd.read_csv(\n",
    "    os.path.join(data_dir, 'geonames', 'featureCodes_en.txt'),\n",
    "    sep='\\t',\n",
    "    names=['feature_code', 'feature_name', 'feature_description']\n",
    ")"
   ]
  },
  {
   "cell_type": "markdown",
   "id": "5e769576-ae28-4753-960a-bb9942c15ace",
   "metadata": {},
   "source": [
    "### Wilkens geo data"
   ]
  },
  {
   "cell_type": "code",
   "execution_count": 6,
   "id": "3cd93f7a-3793-475e-8731-aec64c674b77",
   "metadata": {
    "tags": []
   },
   "outputs": [],
   "source": [
    "# regularize data to wilkens geo format\n",
    "punctuation_to_space = str.maketrans({key:' ' for key in string.punctuation})\n",
    "\n",
    "def regularize_string(place_string):\n",
    "    return(unidecode(' '.join(place_string.translate(punctuation_to_space).lower().split())))\n",
    "\n",
    "wi = pd.read_csv(\n",
    "    os.path.join('..', '..', 'toponyms', 'geo.tsv.gz'),\n",
    "    sep='\\t',\n",
    "    low_memory=False,\n",
    ")\n",
    "wi = wi.loc[wi.lang=='en']\n",
    "wi.set_index('text_string', inplace=True)\n",
    "\n",
    "# hand review data\n",
    "hand = pd.read_csv(\n",
    "    os.path.join('..', '..', 'toponyms', 'us_handreview.tsv'),\n",
    "    sep='\\t',\n",
    "    index_col='text_string'\n",
    ")\n",
    "\n",
    "# restore some items from C19 hand review\n",
    "hand.loc[\n",
    "    [\n",
    "        'hollywood', \n",
    "        'dallas', \n",
    "        'florence', \n",
    "        'kingston',\n",
    "        'berkeley', \n",
    "        'queens', \n",
    "        'phoenix', \n",
    "        'woodstock', \n",
    "        'surrey',\n",
    "        'orlando'\n",
    "    ], \n",
    "    'ignore'\n",
    "] = 0\n",
    "\n",
    "# improve alises\n",
    "hand.loc['kingston', 'alias_to'] = 'kingston jamaica'\n",
    "\n",
    "# drop ignored places\n",
    "wi = wi.drop(hand.loc[hand.ignore==1].index, errors='ignore')\n",
    "\n",
    "# alias places\n",
    "for original_place, alias_to in hand.loc[(~hand.alias_to.isna()) & (hand.ignore==0) & (hand.alias_to.isin(wi.index)), 'alias_to'].items():\n",
    "    wi.loc[original_place] = wi.loc[alias_to]\n",
    "\n",
    "# drop unused places\n",
    "wi_gpes = Counter()\n",
    "for sequence in conlit.gpe_sequences:\n",
    "    wi_gpes.update([regularize_string(i) for i in sequence])\n",
    "wi.drop(wi.loc[~wi.index.isin(wi_gpes)].index, inplace=True, errors='ignore')"
   ]
  },
  {
   "cell_type": "markdown",
   "id": "967cdeed-45eb-48e7-8a1b-f73de5835064",
   "metadata": {},
   "source": [
    "### Sequence distances\n",
    "\n",
    "For each volume sequence, look up each place, get lat/lon, calculate distance from previous place, sum over sequential path.\n",
    "\n",
    "If `source='wilkens'`, also perform fancier location aliasing, ignore known-bad places, and zero out sequence steps that move between admin levels within the same admin entity (e.g., `Boston -> United States` or `UK -> England`). The last step has room for improvement: we don't deal with `admin_2` level and below (the distances involved are small), nor with continents (Google data doesn't place countries in continents, plus, I think there's a meaningful sense in which there's distance between, e.g., `Paris` and `Europe` in a way that there isn't between `Boston` and `USA`)."
   ]
  },
  {
   "cell_type": "code",
   "execution_count": 7,
   "id": "54ace81b-4551-44ec-bebe-92ba10b3d92a",
   "metadata": {
    "tags": []
   },
   "outputs": [],
   "source": [
    "def get_lat_lon(place_string, geo_data, extended=False):\n",
    "    '''Assumes lookup string has been regularized if necessary'''\n",
    "    try:\n",
    "        if extended:\n",
    "            return(geo_data.loc[place_string, ['lat', 'lon', 'country_short', 'admin_1_std', 'location_type']])\n",
    "        else:\n",
    "            return(geo_data.loc[place_string, ['lat', 'lon']])\n",
    "    except ValueError:\n",
    "        return(None)\n",
    "\n",
    "continents = { # not used in current implementation\n",
    "    'africa',\n",
    "    'antarctica',\n",
    "    'asia',\n",
    "    'australia',\n",
    "    'europe',\n",
    "    'north america',\n",
    "    'south america'\n",
    "}\n",
    "\n",
    "def sequence_distance(sequence, source='geonames'):\n",
    "    # set data, regularize strings, and remove unknown locations\n",
    "    if source=='geonames':\n",
    "        geo_data = gn\n",
    "        seq = [i for i in sequence if i in geo_data.index]\n",
    "    if source=='wilkens':\n",
    "        geo_data = wi\n",
    "        seq = [regularize_string(i) for i in sequence if regularize_string(i) in geo_data.index]\n",
    "    total_distance = 0.0\n",
    "    for location1, location2 in pairwise(seq):\n",
    "        #print(location1, location2)\n",
    "        if location1 in distances and location2 in distances[location1]:\n",
    "            total_distance += distances[location1][location2]\n",
    "        else:\n",
    "            if source=='wilkens':\n",
    "                loc1 = get_lat_lon(location1, geo_data, extended=True)\n",
    "                loc2 = get_lat_lon(location2, geo_data, extended=True)\n",
    "                if loc1 is None or loc2 is None: pass # should never happen, but check\n",
    "                # eliminate place -> higher-order place in same admin area\n",
    "                if (loc1.location_type=='country' or loc2.location_type=='country') and \\\n",
    "                   (loc2.country_short==loc1.country_short): pass\n",
    "                elif (loc1.location_type=='administrative_area_level_1' or \\\n",
    "                      loc2.location_type=='administrative_area_level_1') and \\\n",
    "                     (loc2.country_short==loc1.country_short and \\\n",
    "                      loc2.admin_1_std==loc1.admin_1_std): pass\n",
    "                else:\n",
    "                    loc1 = loc1[['lat', 'lon']]\n",
    "                    loc2 = loc2[['lat', 'lon']]   \n",
    "                    dist = distance.distance(loc1, loc2).miles\n",
    "                    total_distance += dist\n",
    "                    distances[location1][location2] = dist\n",
    "                    distances[location2][location1] = dist\n",
    "            else:\n",
    "                loc1 = get_lat_lon(location1, geo_data)\n",
    "                loc2 = get_lat_lon(location2, geo_data)\n",
    "                if loc1 is None or loc2 is None: pass # should never happen, but ...\n",
    "                else: #compute dist and add to distances\n",
    "                    dist = distance.distance(loc1, loc2).miles\n",
    "                    total_distance += dist\n",
    "                    distances[location1][location2] = dist\n",
    "                    distances[location2][location1] = dist\n",
    "    return(total_distance)"
   ]
  },
  {
   "cell_type": "code",
   "execution_count": 8,
   "id": "b3ce177c-9a2b-4c14-8a5f-bd73ecb7747d",
   "metadata": {
    "tags": []
   },
   "outputs": [
    {
     "name": "stdout",
     "output_type": "stream",
     "text": [
      "R^2 Sandeep/Wilkens naive v. Geoname naives: 0.893\n",
      "CPU times: user 15.1 s, sys: 24.8 ms, total: 15.1 s\n",
      "Wall time: 15.1 s\n"
     ]
    },
    {
     "data": {
      "image/png": "[encoded data removed]",
      "text/plain": [
       "<Figure size 640x480 with 1 Axes>"
      ]
     },
     "metadata": {},
     "output_type": "display_data"
    }
   ],
   "source": [
    "%%time\n",
    "distances = defaultdict(lambda: defaultdict(float))\n",
    "gn_distances = conlit['gpe_sequences'].apply(sequence_distance, source='geonames')\n",
    "\n",
    "clf = LinearRegression().fit(X=conlit[['dist_miles']], y=gn_distances)\n",
    "print(f\"R^2 Sandeep/Wilkens naive v. Geoname naives: {clf.score(X=conlit[['dist_miles']], y=gn_distances):.3f}\")\n",
    "\n",
    "sns.regplot(x=conlit.dist_miles, y=gn_distances, scatter_kws={'alpha':0.25, 'linewidth':0})\n",
    "plt.tight_layout()"
   ]
  },
  {
   "cell_type": "code",
   "execution_count": 9,
   "id": "9c233434-6ff5-44f7-9ba1-e43722c468d4",
   "metadata": {
    "tags": []
   },
   "outputs": [
    {
     "name": "stdout",
     "output_type": "stream",
     "text": [
      "R^2 Wilkens naive v. Wilkens fancy: 0.986\n",
      "CPU times: user 25 s, sys: 29.5 ms, total: 25.1 s\n",
      "Wall time: 25.1 s\n"
     ]
    }
   ],
   "source": [
    "%%time\n",
    "distances = defaultdict(lambda: defaultdict(float))\n",
    "wi_distances = conlit['gpe_sequences'].apply(sequence_distance, source='wilkens')\n",
    "\n",
    "clf = LinearRegression().fit(X=conlit[['dist_miles']], y=wi_distances)\n",
    "print(f\"R^2 Wilkens naive v. Wilkens fancy: {clf.score(X=conlit[['dist_miles']], y=wi_distances):.3f}\")\n",
    "\n",
    "#sns.regplot(x=conlit.dist_miles, y=wi_distances, scatter_kws={'alpha':0.25, 'linewidth':0})\n",
    "#plt.tight_layout()"
   ]
  },
  {
   "cell_type": "code",
   "execution_count": 10,
   "id": "ef5273fc-f7bb-4a2a-8986-5f5e6c7f33b3",
   "metadata": {
    "tags": []
   },
   "outputs": [
    {
     "name": "stdout",
     "output_type": "stream",
     "text": [
      "R^2 Wilkens fancy v. Geonames naive: 0.865\n"
     ]
    }
   ],
   "source": [
    "X_wi = pd.DataFrame(wi_distances)\n",
    "clf = LinearRegression().fit(X=X_wi, y=gn_distances)\n",
    "print(f\"R^2 Wilkens fancy v. Geonames naive: {clf.score(X=X_wi, y=gn_distances):.3f}\")"
   ]
  },
  {
   "cell_type": "markdown",
   "id": "903bef9c-23e8-4283-9d98-fd22c9987c5a",
   "metadata": {},
   "source": [
    "### Save new distances to CSV"
   ]
  },
  {
   "cell_type": "code",
   "execution_count": 11,
   "id": "6afc7826-43fb-4cdd-b4d3-516cee4fc177",
   "metadata": {
    "tags": []
   },
   "outputs": [],
   "source": [
    "conlit['dist_miles'] = wi_distances\n",
    "conlit.to_csv(os.path.join(derived_dir, 'CONLIT_CharData_AP_MW_5.csv.gz'))"
   ]
  },
  {
   "cell_type": "code",
   "execution_count": 12,
   "id": "9f8c3442-0c94-4d35-b9d0-7533c0c2b151",
   "metadata": {
    "tags": []
   },
   "outputs": [],
   "source": [
    "conlit['dist_miles'].to_csv(os.path.join(derived_dir, 'CONLIT_CharData_dist_miles.csv.gz'))"
   ]
  },
  {
   "cell_type": "markdown",
   "id": "3cd5892a-7731-4ad1-b615-5fd406e9cb85",
   "metadata": {},
   "source": [
    "## EARLY GPE distances\n",
    "\n",
    "### Prepare early file"
   ]
  },
  {
   "cell_type": "code",
   "execution_count": 13,
   "id": "5860a096-f9c6-424a-b015-7b060931ecd2",
   "metadata": {
    "tags": []
   },
   "outputs": [],
   "source": [
    "def read_hoplist(file_path, label='gpe'):\n",
    "    df = pd.read_json(\n",
    "        file_path,\n",
    "        lines=True\n",
    "    ).explode('chars')\n",
    "    \n",
    "    book_ids = []\n",
    "    char_ids = []\n",
    "    gpe_lists = []\n",
    "    seq_lists = []\n",
    "    for _, row in df.iterrows():\n",
    "        book_id = row.book_id\n",
    "        d = row.loc['chars']\n",
    "        char_id = d['char_id']\n",
    "        seq = d['sequence']\n",
    "        seq_list = [place_dict['place'] for place_dict in seq]\n",
    "        gpe_list = []\n",
    "        for place_dict in seq:\n",
    "            for i in range(place_dict['count']):\n",
    "                gpe_list.append(place_dict['place'])\n",
    "        seq_lists.append(seq_list)\n",
    "        gpe_lists.append(gpe_list)\n",
    "        book_ids.append(book_id)\n",
    "        char_ids.append(char_id)\n",
    "\n",
    "    result = pd.DataFrame(\n",
    "        {\n",
    "            'book_id':book_ids,\n",
    "            'char_id':char_ids,\n",
    "            f'{label}_places':gpe_lists,\n",
    "            f'{label}_sequences':seq_lists\n",
    "        }\n",
    "    )\n",
    "    return(result)\n",
    "\n",
    "# read hoplists\n",
    "early_gpes = read_hoplist(os.path.join(derived_dir, 'mb.hoplist.gpe.all.jsonl.bz2'), label='gpe')\n",
    "early_nongpes = read_hoplist(os.path.join(derived_dir, 'mb.hoplist.non_gpe.all.jsonl.bz2'), label='nongpe')\n",
    "early_allplaces = read_hoplist(os.path.join(derived_dir, 'mb.hoplist.all.all.jsonl.bz2'), label='all')\n",
    "\n",
    "# read base data\n",
    "base_early = pd.read_csv(\n",
    "    os.path.join(derived_dir, 'inf_gender.1.tsv.gz'),\n",
    "    sep='\\t',\n",
    ").drop(columns=['prob'])\n",
    "\n",
    "# restrict to protagonists\n",
    "early = base_early.merge(\n",
    "    early_gpes, how='left', on=['book_id', 'char_id']\n",
    ").merge(\n",
    "    early_nongpes, how='left', on=['book_id', 'char_id']\n",
    ").merge(\n",
    "    early_allplaces, how='left', on=['book_id', 'char_id']\n",
    ")\n",
    "\n",
    "# reference format of original data for CONLIT\n",
    "ref = pd.read_csv(\n",
    "    os.path.join(derived_dir, 'book_char_mobility.tsv.bz2'),\n",
    "    sep='\\t'\n",
    ")\n",
    "\n",
    "# calculate simple derived columns\n",
    "early['num_gpe_places'] = early['gpe_places'].apply(lambda x: len(set(x)))\n",
    "early['num_nongpe_places'] = early['nongpe_places'].apply(lambda x: len(set(x)))\n",
    "early['num_all_places'] = early['all_places'].apply(lambda x: len(set(x)))\n",
    "early['char_rank'] = 1.0\n",
    "\n",
    "# add token count\n",
    "early_token_counts = pd.read_csv(\n",
    "    os.path.join(derived_dir, 'mb.book_lengths.tsv'),\n",
    "    sep='\\t',\n",
    "    skiprows=1,\n",
    "    names=['book_id', 'Tokens']\n",
    ")\n",
    "early = early.merge(early_token_counts, how='left', on=['book_id'])\n",
    "\n",
    "# add empty distance column and reorder columns to match reference\n",
    "early['dist_miles'] = 0.0\n",
    "proper_cols = [col for col in ref.columns.drop('num_words')]\n",
    "proper_cols.append('Tokens')\n",
    "early = early[proper_cols]"
   ]
  },
  {
   "cell_type": "code",
   "execution_count": 14,
   "id": "726831bd-810d-4a77-bd76-c22b6abcae3e",
   "metadata": {
    "tags": []
   },
   "outputs": [
    {
     "data": {
      "text/html": [
       "<div>\n",
       "<style scoped>\n",
       "    .dataframe tbody tr th:only-of-type {\n",
       "        vertical-align: middle;\n",
       "    }\n",
       "\n",
       "    .dataframe tbody tr th {\n",
       "        vertical-align: top;\n",
       "    }\n",
       "\n",
       "    .dataframe thead th {\n",
       "        text-align: right;\n",
       "    }\n",
       "</style>\n",
       "<table border=\"1\" class=\"dataframe\">\n",
       "  <thead>\n",
       "    <tr style=\"text-align: right;\">\n",
       "      <th></th>\n",
       "      <th>book_id</th>\n",
       "      <th>char_id</th>\n",
       "      <th>char_count</th>\n",
       "      <th>inf_gender</th>\n",
       "      <th>gpe_places</th>\n",
       "      <th>num_gpe_places</th>\n",
       "      <th>nongpe_places</th>\n",
       "      <th>num_nongpe_places</th>\n",
       "      <th>all_places</th>\n",
       "      <th>num_all_places</th>\n",
       "      <th>gpe_sequences</th>\n",
       "      <th>dist_miles</th>\n",
       "      <th>char_rank</th>\n",
       "      <th>Tokens</th>\n",
       "    </tr>\n",
       "  </thead>\n",
       "  <tbody>\n",
       "    <tr>\n",
       "      <th>10323</th>\n",
       "      <td>00023517</td>\n",
       "      <td>0</td>\n",
       "      <td>5007</td>\n",
       "      <td>he/him/his</td>\n",
       "      <td>[Rome, Genoa, Florence, Perugia, Florence, Gen...</td>\n",
       "      <td>15</td>\n",
       "      <td>[the road, the building, here, that hotel in P...</td>\n",
       "      <td>210</td>\n",
       "      <td>[Rome, the road, the building, Genoa, here, Fl...</td>\n",
       "      <td>224</td>\n",
       "      <td>[Rome, Genoa, Florence, Perugia, Florence, Gen...</td>\n",
       "      <td>0.0</td>\n",
       "      <td>1.0</td>\n",
       "      <td>128635</td>\n",
       "    </tr>\n",
       "    <tr>\n",
       "      <th>6531</th>\n",
       "      <td>00024524</td>\n",
       "      <td>52</td>\n",
       "      <td>3690</td>\n",
       "      <td>he/him/his</td>\n",
       "      <td>[Valdemaran, Valdemaran, Valdemar, Valdemar, G...</td>\n",
       "      <td>6</td>\n",
       "      <td>[the woods, the cottage, the cottage, the cott...</td>\n",
       "      <td>82</td>\n",
       "      <td>[the woods, the cottage, the cottage, the cott...</td>\n",
       "      <td>87</td>\n",
       "      <td>[Valdemaran, Valdemar, Grove, Errold ’s Grove,...</td>\n",
       "      <td>0.0</td>\n",
       "      <td>1.0</td>\n",
       "      <td>134486</td>\n",
       "    </tr>\n",
       "    <tr>\n",
       "      <th>4501</th>\n",
       "      <td>00022954</td>\n",
       "      <td>0</td>\n",
       "      <td>2718</td>\n",
       "      <td>he/him/his</td>\n",
       "      <td>[Maasailand, Maasailand, Earth, Earth, 882 G.E...</td>\n",
       "      <td>5</td>\n",
       "      <td>[the Kikuyu, Wilford Braxton 's, Wilford Braxt...</td>\n",
       "      <td>93</td>\n",
       "      <td>[the Kikuyu, Maasailand, Maasailand, Wilford B...</td>\n",
       "      <td>97</td>\n",
       "      <td>[Maasailand, Earth, 882 G.E., Tahiti Benoit, K...</td>\n",
       "      <td>0.0</td>\n",
       "      <td>1.0</td>\n",
       "      <td>131175</td>\n",
       "    </tr>\n",
       "  </tbody>\n",
       "</table>\n",
       "</div>"
      ],
      "text/plain": [
       "        book_id  char_id  char_count  inf_gender  \\\n",
       "10323  00023517        0        5007  he/him/his   \n",
       "6531   00024524       52        3690  he/him/his   \n",
       "4501   00022954        0        2718  he/him/his   \n",
       "\n",
       "                                              gpe_places  num_gpe_places  \\\n",
       "10323  [Rome, Genoa, Florence, Perugia, Florence, Gen...              15   \n",
       "6531   [Valdemaran, Valdemaran, Valdemar, Valdemar, G...               6   \n",
       "4501   [Maasailand, Maasailand, Earth, Earth, 882 G.E...               5   \n",
       "\n",
       "                                           nongpe_places  num_nongpe_places  \\\n",
       "10323  [the road, the building, here, that hotel in P...                210   \n",
       "6531   [the woods, the cottage, the cottage, the cott...                 82   \n",
       "4501   [the Kikuyu, Wilford Braxton 's, Wilford Braxt...                 93   \n",
       "\n",
       "                                              all_places  num_all_places  \\\n",
       "10323  [Rome, the road, the building, Genoa, here, Fl...             224   \n",
       "6531   [the woods, the cottage, the cottage, the cott...              87   \n",
       "4501   [the Kikuyu, Maasailand, Maasailand, Wilford B...              97   \n",
       "\n",
       "                                           gpe_sequences  dist_miles  \\\n",
       "10323  [Rome, Genoa, Florence, Perugia, Florence, Gen...         0.0   \n",
       "6531   [Valdemaran, Valdemar, Grove, Errold ’s Grove,...         0.0   \n",
       "4501   [Maasailand, Earth, 882 G.E., Tahiti Benoit, K...         0.0   \n",
       "\n",
       "       char_rank  Tokens  \n",
       "10323        1.0  128635  \n",
       "6531         1.0  134486  \n",
       "4501         1.0  131175  "
      ]
     },
     "execution_count": 14,
     "metadata": {},
     "output_type": "execute_result"
    }
   ],
   "source": [
    "# glance at the data\n",
    "early.sample(3)"
   ]
  },
  {
   "cell_type": "markdown",
   "id": "369353d4-2c65-409e-96cc-cf3a04f81c90",
   "metadata": {},
   "source": [
    "### Calculate distances"
   ]
  },
  {
   "cell_type": "code",
   "execution_count": 15,
   "id": "8e66b180-be45-41b4-8668-19f606eeb2d8",
   "metadata": {},
   "outputs": [],
   "source": [
    "# reread geo data to retain relevant locations, etc.\n",
    "wi = pd.read_csv(\n",
    "    os.path.join('..', '..', 'toponyms', 'geo.tsv.gz'),\n",
    "    sep='\\t',\n",
    "    low_memory=False,\n",
    ")\n",
    "wi = wi.loc[wi.lang=='en']\n",
    "wi.set_index('text_string', inplace=True)\n",
    "\n",
    "# hand review data\n",
    "hand = pd.read_csv(\n",
    "    os.path.join('..', '..', 'toponyms', 'us_handreview.tsv'),\n",
    "    sep='\\t',\n",
    "    index_col='text_string'\n",
    ")\n",
    "\n",
    "# restore some items from C19 hand review\n",
    "hand.loc[\n",
    "    [\n",
    "        'hollywood', \n",
    "        'dallas', \n",
    "        'florence', \n",
    "        'kingston',\n",
    "        'berkeley', \n",
    "        'queens', \n",
    "        'phoenix', \n",
    "        'woodstock', \n",
    "        'surrey',\n",
    "        'orlando'\n",
    "    ], \n",
    "    'ignore'\n",
    "] = 0\n",
    "\n",
    "# improve alises\n",
    "hand.loc['kingston', 'alias_to'] = 'kingston jamaica'\n",
    "\n",
    "# drop ignored places\n",
    "wi = wi.drop(hand.loc[hand.ignore==1].index, errors='ignore')\n",
    "\n",
    "# alias places\n",
    "for original_place, alias_to in hand.loc[(~hand.alias_to.isna()) & (hand.ignore==0) & (hand.alias_to.isin(wi.index)), 'alias_to'].items():\n",
    "    wi.loc[original_place] = wi.loc[alias_to]"
   ]
  },
  {
   "cell_type": "code",
   "execution_count": 16,
   "id": "6191cb89-5e9a-4673-920a-24a53cc8e74b",
   "metadata": {},
   "outputs": [],
   "source": [
    "# drop unused places\n",
    "wi_gpes = Counter()\n",
    "for sequence in early.gpe_sequences:\n",
    "    wi_gpes.update([regularize_string(i) for i in sequence])\n",
    "wi.drop(wi.loc[~wi.index.isin(wi_gpes)].index, inplace=True, errors='ignore')"
   ]
  },
  {
   "cell_type": "code",
   "execution_count": 17,
   "id": "d67ee8ce-9684-4387-be55-2f5923089c4f",
   "metadata": {
    "tags": []
   },
   "outputs": [
    {
     "name": "stdout",
     "output_type": "stream",
     "text": [
      "CPU times: user 40.9 s, sys: 47.4 ms, total: 40.9 s\n",
      "Wall time: 40.9 s\n"
     ]
    }
   ],
   "source": [
    "%%time\n",
    "# calculate distances\n",
    "distances = defaultdict(lambda: defaultdict(float))\n",
    "early_distances = early['gpe_sequences'].apply(sequence_distance, source='wilkens')"
   ]
  },
  {
   "cell_type": "markdown",
   "id": "dcac64ae-a68d-4c91-95e2-76fb65b6ad7a",
   "metadata": {},
   "source": [
    "### Save new distances to CSV"
   ]
  },
  {
   "cell_type": "code",
   "execution_count": 18,
   "id": "ab352d66-9704-451b-a0b8-d1c3e98d4d2f",
   "metadata": {
    "tags": []
   },
   "outputs": [],
   "source": [
    "early['dist_miles'] = early_distances\n",
    "early.set_index('book_id', inplace=True)\n",
    "early.to_csv(os.path.join(derived_dir, 'EARLY_CharData_MW.csv.gz'))\n",
    "early['dist_miles'].to_csv(os.path.join(derived_dir, 'EARLY_CharData_dist_miles.csv.gz'))"
   ]
  },
  {
   "cell_type": "markdown",
   "id": "5dc36de0-bfde-4a65-8d1f-0b42bb45895e",
   "metadata": {},
   "source": [
    "### Check EARLY distances"
   ]
  },
  {
   "cell_type": "code",
   "execution_count": 19,
   "id": "cd9e7256-23a4-44e7-b77f-689b388fe8f9",
   "metadata": {
    "tags": []
   },
   "outputs": [
    {
     "data": {
      "text/html": [
       "<div>\n",
       "<style scoped>\n",
       "    .dataframe tbody tr th:only-of-type {\n",
       "        vertical-align: middle;\n",
       "    }\n",
       "\n",
       "    .dataframe tbody tr th {\n",
       "        vertical-align: top;\n",
       "    }\n",
       "\n",
       "    .dataframe thead th {\n",
       "        text-align: right;\n",
       "    }\n",
       "</style>\n",
       "<table border=\"1\" class=\"dataframe\">\n",
       "  <thead>\n",
       "    <tr style=\"text-align: right;\">\n",
       "      <th></th>\n",
       "      <th>char_id</th>\n",
       "      <th>char_count</th>\n",
       "      <th>num_gpe_places</th>\n",
       "      <th>num_nongpe_places</th>\n",
       "      <th>num_all_places</th>\n",
       "      <th>dist_miles</th>\n",
       "      <th>char_rank</th>\n",
       "      <th>Tokens</th>\n",
       "    </tr>\n",
       "  </thead>\n",
       "  <tbody>\n",
       "    <tr>\n",
       "      <th>count</th>\n",
       "      <td>10693.000000</td>\n",
       "      <td>10693.000000</td>\n",
       "      <td>10693.000000</td>\n",
       "      <td>10693.000000</td>\n",
       "      <td>10693.000000</td>\n",
       "      <td>10693.000000</td>\n",
       "      <td>10693.0</td>\n",
       "      <td>1.069300e+04</td>\n",
       "    </tr>\n",
       "    <tr>\n",
       "      <th>mean</th>\n",
       "      <td>133.157019</td>\n",
       "      <td>2928.077153</td>\n",
       "      <td>11.285794</td>\n",
       "      <td>93.092677</td>\n",
       "      <td>104.060881</td>\n",
       "      <td>29417.895816</td>\n",
       "      <td>1.0</td>\n",
       "      <td>1.157649e+05</td>\n",
       "    </tr>\n",
       "    <tr>\n",
       "      <th>std</th>\n",
       "      <td>217.618373</td>\n",
       "      <td>2021.123267</td>\n",
       "      <td>10.486673</td>\n",
       "      <td>61.809811</td>\n",
       "      <td>69.181629</td>\n",
       "      <td>48108.827763</td>\n",
       "      <td>0.0</td>\n",
       "      <td>6.650997e+04</td>\n",
       "    </tr>\n",
       "    <tr>\n",
       "      <th>min</th>\n",
       "      <td>0.000000</td>\n",
       "      <td>19.000000</td>\n",
       "      <td>0.000000</td>\n",
       "      <td>0.000000</td>\n",
       "      <td>0.000000</td>\n",
       "      <td>0.000000</td>\n",
       "      <td>1.0</td>\n",
       "      <td>3.190000e+02</td>\n",
       "    </tr>\n",
       "    <tr>\n",
       "      <th>25%</th>\n",
       "      <td>0.000000</td>\n",
       "      <td>1560.000000</td>\n",
       "      <td>4.000000</td>\n",
       "      <td>49.000000</td>\n",
       "      <td>55.000000</td>\n",
       "      <td>2240.269955</td>\n",
       "      <td>1.0</td>\n",
       "      <td>7.692100e+04</td>\n",
       "    </tr>\n",
       "    <tr>\n",
       "      <th>50%</th>\n",
       "      <td>90.000000</td>\n",
       "      <td>2519.000000</td>\n",
       "      <td>9.000000</td>\n",
       "      <td>82.000000</td>\n",
       "      <td>91.000000</td>\n",
       "      <td>13369.838032</td>\n",
       "      <td>1.0</td>\n",
       "      <td>1.019410e+05</td>\n",
       "    </tr>\n",
       "    <tr>\n",
       "      <th>75%</th>\n",
       "      <td>190.000000</td>\n",
       "      <td>3780.000000</td>\n",
       "      <td>15.000000</td>\n",
       "      <td>123.000000</td>\n",
       "      <td>137.000000</td>\n",
       "      <td>36431.983953</td>\n",
       "      <td>1.0</td>\n",
       "      <td>1.390170e+05</td>\n",
       "    </tr>\n",
       "    <tr>\n",
       "      <th>max</th>\n",
       "      <td>9403.000000</td>\n",
       "      <td>22946.000000</td>\n",
       "      <td>146.000000</td>\n",
       "      <td>623.000000</td>\n",
       "      <td>726.000000</td>\n",
       "      <td>788452.017943</td>\n",
       "      <td>1.0</td>\n",
       "      <td>1.331338e+06</td>\n",
       "    </tr>\n",
       "  </tbody>\n",
       "</table>\n",
       "</div>"
      ],
      "text/plain": [
       "            char_id    char_count  num_gpe_places  num_nongpe_places  \\\n",
       "count  10693.000000  10693.000000    10693.000000       10693.000000   \n",
       "mean     133.157019   2928.077153       11.285794          93.092677   \n",
       "std      217.618373   2021.123267       10.486673          61.809811   \n",
       "min        0.000000     19.000000        0.000000           0.000000   \n",
       "25%        0.000000   1560.000000        4.000000          49.000000   \n",
       "50%       90.000000   2519.000000        9.000000          82.000000   \n",
       "75%      190.000000   3780.000000       15.000000         123.000000   \n",
       "max     9403.000000  22946.000000      146.000000         623.000000   \n",
       "\n",
       "       num_all_places     dist_miles  char_rank        Tokens  \n",
       "count    10693.000000   10693.000000    10693.0  1.069300e+04  \n",
       "mean       104.060881   29417.895816        1.0  1.157649e+05  \n",
       "std         69.181629   48108.827763        0.0  6.650997e+04  \n",
       "min          0.000000       0.000000        1.0  3.190000e+02  \n",
       "25%         55.000000    2240.269955        1.0  7.692100e+04  \n",
       "50%         91.000000   13369.838032        1.0  1.019410e+05  \n",
       "75%        137.000000   36431.983953        1.0  1.390170e+05  \n",
       "max        726.000000  788452.017943        1.0  1.331338e+06  "
      ]
     },
     "execution_count": 19,
     "metadata": {},
     "output_type": "execute_result"
    }
   ],
   "source": [
    "early.describe()"
   ]
  },
  {
   "cell_type": "code",
   "execution_count": 20,
   "id": "8c796b16-df54-471a-9750-ad0e4ec987bb",
   "metadata": {
    "tags": []
   },
   "outputs": [
    {
     "data": {
      "text/plain": [
       "0.502130632355569"
      ]
     },
     "execution_count": 20,
     "metadata": {},
     "output_type": "execute_result"
    }
   ],
   "source": [
    "conlit.dist_miles.divide(conlit.Tokens).mean()"
   ]
  },
  {
   "cell_type": "code",
   "execution_count": 21,
   "id": "daab508e-6f8d-408d-ab28-d447da8f8fc9",
   "metadata": {
    "tags": []
   },
   "outputs": [
    {
     "data": {
      "text/plain": [
       "0.24894877927328699"
      ]
     },
     "execution_count": 21,
     "metadata": {},
     "output_type": "execute_result"
    }
   ],
   "source": [
    "early.dist_miles.divide(early.Tokens).mean()"
   ]
  },
  {
   "cell_type": "code",
   "execution_count": 22,
   "id": "c67ad9f6-b07e-4ab4-8df2-57a881774d5a",
   "metadata": {
    "tags": []
   },
   "outputs": [
    {
     "data": {
      "text/plain": [
       "[('New York', 14926),\n",
       " ('London', 8615),\n",
       " ('Paris', 7636),\n",
       " ('America', 5850),\n",
       " ('England', 5622),\n",
       " ('Chicago', 4830),\n",
       " ('California', 4201),\n",
       " ('Boston', 4026),\n",
       " ('France', 3334),\n",
       " ('Washington', 3168),\n",
       " ('Rome', 3084),\n",
       " ('San Francisco', 2982),\n",
       " ('Virginia', 2133),\n",
       " ('Texas', 2102),\n",
       " ('Mexico', 2057),\n",
       " ('New Orleans', 1844),\n",
       " ('Los Angeles', 1812),\n",
       " ('Europe', 1645),\n",
       " ('Florida', 1563),\n",
       " ('Manhattan', 1348)]"
      ]
     },
     "execution_count": 22,
     "metadata": {},
     "output_type": "execute_result"
    }
   ],
   "source": [
    "early_gpe_counts = Counter()\n",
    "for i in early.gpe_places:\n",
    "    early_gpe_counts.update(i)\n",
    "early_gpe_counts.most_common(20)"
   ]
  },
  {
   "cell_type": "code",
   "execution_count": null,
   "id": "c58871a4-8d91-45f2-ab29-5e143478b471",
   "metadata": {
    "tags": []
   },
   "outputs": [],
   "source": []
  }
 ],
 "metadata": {
  "kernelspec": {
   "display_name": "Python 3 (ipykernel)",
   "language": "python",
   "name": "python3"
  },
  "language_info": {
   "codemirror_mode": {
    "name": "ipython",
    "version": 3
   },
   "file_extension": ".py",
   "mimetype": "text/x-python",
   "name": "python",
   "nbconvert_exporter": "python",
   "pygments_lexer": "ipython3",
   "version": "3.10.13"
  }
 },
 "nbformat": 4,
 "nbformat_minor": 5
}
