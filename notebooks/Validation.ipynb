{
 "cells": [
  {
   "cell_type": "markdown",
   "id": "1016bd7e-4700-4f15-aaa5-73c8ebf07a86",
   "metadata": {},
   "source": [
    "# Validation\n",
    "\n",
    "Calculations related to hand validation of our results."
   ]
  },
  {
   "cell_type": "markdown",
   "id": "f6919dae-00e0-4985-8b15-84caaf4c1f17",
   "metadata": {},
   "source": [
    "## Read data"
   ]
  },
  {
   "cell_type": "code",
   "execution_count": 1,
   "id": "6e485122-e255-480a-8975-1a2c6da15847",
   "metadata": {
    "tags": []
   },
   "outputs": [],
   "source": [
    "import matplotlib.pyplot as plt\n",
    "import numpy as np\n",
    "import pandas as pd\n",
    "import seaborn as sns\n",
    "from   scipy.stats import permutation_test\n",
    "import statsmodels.api as sm\n",
    "import statsmodels.formula.api as smf\n",
    "\n",
    "gsheet = 'https://docs.google.com/spreadsheets/d/1i89xEmIAaPQa2DKAxvoVlLNAlst2R7EwC0v0pqVpdF0/export?format=csv'\n",
    "df = pd.read_csv(gsheet, index_col='book_id')\n",
    "\n",
    "ids_to_drop = [\n",
    "    '2010_Haldeman,Joe_Starbound_SF', # sci-fi\n",
    "]\n",
    "\n",
    "manual_cols = ['dist_miles', 'manual_distance_gpe_sequences', 'manual_distance_yourLocations', 'manual_mobility_rating']\n",
    "df.drop(index=ids_to_drop, inplace=True)\n",
    "df.dropna(subset=manual_cols, inplace=True)"
   ]
  },
  {
   "cell_type": "markdown",
   "id": "8cd91512-6c3d-4144-8c44-ba203e181297",
   "metadata": {},
   "source": [
    "## Correlations"
   ]
  },
  {
   "cell_type": "code",
   "execution_count": 2,
   "id": "c97732a9-5bd7-472d-9f6e-9bf183e5e4e5",
   "metadata": {
    "tags": []
   },
   "outputs": [
    {
     "data": {
      "text/html": [
       "<table class=\"simpletable\">\n",
       "<caption>OLS Regression Results</caption>\n",
       "<tr>\n",
       "  <th>Dep. Variable:</th>    <td>manual_distance_yourLocations</td> <th>  R-squared:         </th> <td>   0.525</td>\n",
       "</tr>\n",
       "<tr>\n",
       "  <th>Model:</th>                         <td>OLS</td>              <th>  Adj. R-squared:    </th> <td>   0.507</td>\n",
       "</tr>\n",
       "<tr>\n",
       "  <th>Method:</th>                   <td>Least Squares</td>         <th>  F-statistic:       </th> <td>   29.84</td>\n",
       "</tr>\n",
       "<tr>\n",
       "  <th>Date:</th>                   <td>Thu, 11 Jan 2024</td>        <th>  Prob (F-statistic):</th> <td>8.82e-06</td>\n",
       "</tr>\n",
       "<tr>\n",
       "  <th>Time:</th>                       <td>15:37:09</td>            <th>  Log-Likelihood:    </th> <td> -320.29</td>\n",
       "</tr>\n",
       "<tr>\n",
       "  <th>No. Observations:</th>            <td>    29</td>             <th>  AIC:               </th> <td>   644.6</td>\n",
       "</tr>\n",
       "<tr>\n",
       "  <th>Df Residuals:</th>                <td>    27</td>             <th>  BIC:               </th> <td>   647.3</td>\n",
       "</tr>\n",
       "<tr>\n",
       "  <th>Df Model:</th>                    <td>     1</td>             <th>                     </th>     <td> </td>   \n",
       "</tr>\n",
       "<tr>\n",
       "  <th>Covariance Type:</th>            <td>nonrobust</td>           <th>                     </th>     <td> </td>   \n",
       "</tr>\n",
       "</table>\n",
       "<table class=\"simpletable\">\n",
       "<tr>\n",
       "       <td></td>         <th>coef</th>     <th>std err</th>      <th>t</th>      <th>P>|t|</th>  <th>[0.025</th>    <th>0.975]</th>  \n",
       "</tr>\n",
       "<tr>\n",
       "  <th>Intercept</th>  <td> 1071.4337</td> <td> 3906.462</td> <td>    0.274</td> <td> 0.786</td> <td>-6943.965</td> <td> 9086.832</td>\n",
       "</tr>\n",
       "<tr>\n",
       "  <th>dist_miles</th> <td>    1.2452</td> <td>    0.228</td> <td>    5.462</td> <td> 0.000</td> <td>    0.777</td> <td>    1.713</td>\n",
       "</tr>\n",
       "</table>\n",
       "<table class=\"simpletable\">\n",
       "<tr>\n",
       "  <th>Omnibus:</th>       <td>31.833</td> <th>  Durbin-Watson:     </th> <td>   1.999</td>\n",
       "</tr>\n",
       "<tr>\n",
       "  <th>Prob(Omnibus):</th> <td> 0.000</td> <th>  Jarque-Bera (JB):  </th> <td>  82.745</td>\n",
       "</tr>\n",
       "<tr>\n",
       "  <th>Skew:</th>          <td> 2.228</td> <th>  Prob(JB):          </th> <td>1.08e-18</td>\n",
       "</tr>\n",
       "<tr>\n",
       "  <th>Kurtosis:</th>      <td> 9.973</td> <th>  Cond. No.          </th> <td>2.30e+04</td>\n",
       "</tr>\n",
       "</table><br/><br/>Notes:<br/>[1] Standard Errors assume that the covariance matrix of the errors is correctly specified.<br/>[2] The condition number is large, 2.3e+04. This might indicate that there are<br/>strong multicollinearity or other numerical problems."
      ],
      "text/latex": [
       "\\begin{center}\n",
       "\\begin{tabular}{lclc}\n",
       "\\toprule\n",
       "\\textbf{Dep. Variable:}    & manual\\_distance\\_yourLocations & \\textbf{  R-squared:         } &     0.525   \\\\\n",
       "\\textbf{Model:}            &               OLS               & \\textbf{  Adj. R-squared:    } &     0.507   \\\\\n",
       "\\textbf{Method:}           &          Least Squares          & \\textbf{  F-statistic:       } &     29.84   \\\\\n",
       "\\textbf{Date:}             &         Thu, 11 Jan 2024        & \\textbf{  Prob (F-statistic):} &  8.82e-06   \\\\\n",
       "\\textbf{Time:}             &             15:37:09            & \\textbf{  Log-Likelihood:    } &   -320.29   \\\\\n",
       "\\textbf{No. Observations:} &                  29             & \\textbf{  AIC:               } &     644.6   \\\\\n",
       "\\textbf{Df Residuals:}     &                  27             & \\textbf{  BIC:               } &     647.3   \\\\\n",
       "\\textbf{Df Model:}         &                   1             & \\textbf{                     } &             \\\\\n",
       "\\textbf{Covariance Type:}  &            nonrobust            & \\textbf{                     } &             \\\\\n",
       "\\bottomrule\n",
       "\\end{tabular}\n",
       "\\begin{tabular}{lcccccc}\n",
       "                     & \\textbf{coef} & \\textbf{std err} & \\textbf{t} & \\textbf{P$> |$t$|$} & \\textbf{[0.025} & \\textbf{0.975]}  \\\\\n",
       "\\midrule\n",
       "\\textbf{Intercept}   &    1071.4337  &     3906.462     &     0.274  &         0.786        &    -6943.965    &     9086.832     \\\\\n",
       "\\textbf{dist\\_miles} &       1.2452  &        0.228     &     5.462  &         0.000        &        0.777    &        1.713     \\\\\n",
       "\\bottomrule\n",
       "\\end{tabular}\n",
       "\\begin{tabular}{lclc}\n",
       "\\textbf{Omnibus:}       & 31.833 & \\textbf{  Durbin-Watson:     } &    1.999  \\\\\n",
       "\\textbf{Prob(Omnibus):} &  0.000 & \\textbf{  Jarque-Bera (JB):  } &   82.745  \\\\\n",
       "\\textbf{Skew:}          &  2.228 & \\textbf{  Prob(JB):          } & 1.08e-18  \\\\\n",
       "\\textbf{Kurtosis:}      &  9.973 & \\textbf{  Cond. No.          } & 2.30e+04  \\\\\n",
       "\\bottomrule\n",
       "\\end{tabular}\n",
       "%\\caption{OLS Regression Results}\n",
       "\\end{center}\n",
       "\n",
       "Notes: \\newline\n",
       " [1] Standard Errors assume that the covariance matrix of the errors is correctly specified. \\newline\n",
       " [2] The condition number is large, 2.3e+04. This might indicate that there are \\newline\n",
       " strong multicollinearity or other numerical problems."
      ],
      "text/plain": [
       "<class 'statsmodels.iolib.summary.Summary'>\n",
       "\"\"\"\n",
       "                                  OLS Regression Results                                 \n",
       "=========================================================================================\n",
       "Dep. Variable:     manual_distance_yourLocations   R-squared:                       0.525\n",
       "Model:                                       OLS   Adj. R-squared:                  0.507\n",
       "Method:                            Least Squares   F-statistic:                     29.84\n",
       "Date:                           Thu, 11 Jan 2024   Prob (F-statistic):           8.82e-06\n",
       "Time:                                   15:37:09   Log-Likelihood:                -320.29\n",
       "No. Observations:                             29   AIC:                             644.6\n",
       "Df Residuals:                                 27   BIC:                             647.3\n",
       "Df Model:                                      1                                         \n",
       "Covariance Type:                       nonrobust                                         \n",
       "==============================================================================\n",
       "                 coef    std err          t      P>|t|      [0.025      0.975]\n",
       "------------------------------------------------------------------------------\n",
       "Intercept   1071.4337   3906.462      0.274      0.786   -6943.965    9086.832\n",
       "dist_miles     1.2452      0.228      5.462      0.000       0.777       1.713\n",
       "==============================================================================\n",
       "Omnibus:                       31.833   Durbin-Watson:                   1.999\n",
       "Prob(Omnibus):                  0.000   Jarque-Bera (JB):               82.745\n",
       "Skew:                           2.228   Prob(JB):                     1.08e-18\n",
       "Kurtosis:                       9.973   Cond. No.                     2.30e+04\n",
       "==============================================================================\n",
       "\n",
       "Notes:\n",
       "[1] Standard Errors assume that the covariance matrix of the errors is correctly specified.\n",
       "[2] The condition number is large, 2.3e+04. This might indicate that there are\n",
       "strong multicollinearity or other numerical problems.\n",
       "\"\"\""
      ]
     },
     "execution_count": 2,
     "metadata": {},
     "output_type": "execute_result"
    }
   ],
   "source": [
    "# pearson correlation between hand distance and algorithm distance\n",
    "results = smf.ols('manual_distance_yourLocations ~ dist_miles', data=df).fit()\n",
    "results.summary()"
   ]
  },
  {
   "cell_type": "code",
   "execution_count": 3,
   "id": "3f373e9b-731f-4a7c-9b30-2687f7357e14",
   "metadata": {
    "tags": []
   },
   "outputs": [
    {
     "data": {
      "text/html": [
       "<table class=\"simpletable\">\n",
       "<caption>OLS Regression Results</caption>\n",
       "<tr>\n",
       "  <th>Dep. Variable:</th>    <td>manual_distance_yourLocations</td> <th>  R-squared:         </th> <td>   0.341</td>\n",
       "</tr>\n",
       "<tr>\n",
       "  <th>Model:</th>                         <td>OLS</td>              <th>  Adj. R-squared:    </th> <td>   0.316</td>\n",
       "</tr>\n",
       "<tr>\n",
       "  <th>Method:</th>                   <td>Least Squares</td>         <th>  F-statistic:       </th> <td>   13.96</td>\n",
       "</tr>\n",
       "<tr>\n",
       "  <th>Date:</th>                   <td>Thu, 11 Jan 2024</td>        <th>  Prob (F-statistic):</th> <td>0.000885</td>\n",
       "</tr>\n",
       "<tr>\n",
       "  <th>Time:</th>                       <td>15:37:09</td>            <th>  Log-Likelihood:    </th> <td> -96.705</td>\n",
       "</tr>\n",
       "<tr>\n",
       "  <th>No. Observations:</th>            <td>    29</td>             <th>  AIC:               </th> <td>   197.4</td>\n",
       "</tr>\n",
       "<tr>\n",
       "  <th>Df Residuals:</th>                <td>    27</td>             <th>  BIC:               </th> <td>   200.1</td>\n",
       "</tr>\n",
       "<tr>\n",
       "  <th>Df Model:</th>                    <td>     1</td>             <th>                     </th>     <td> </td>   \n",
       "</tr>\n",
       "<tr>\n",
       "  <th>Covariance Type:</th>            <td>nonrobust</td>           <th>                     </th>     <td> </td>   \n",
       "</tr>\n",
       "</table>\n",
       "<table class=\"simpletable\">\n",
       "<tr>\n",
       "       <td></td>         <th>coef</th>     <th>std err</th>      <th>t</th>      <th>P>|t|</th>  <th>[0.025</th>    <th>0.975]</th>  \n",
       "</tr>\n",
       "<tr>\n",
       "  <th>Intercept</th>  <td>    6.2438</td> <td>    2.683</td> <td>    2.327</td> <td> 0.028</td> <td>    0.738</td> <td>   11.750</td>\n",
       "</tr>\n",
       "<tr>\n",
       "  <th>dist_miles</th> <td>    0.5837</td> <td>    0.156</td> <td>    3.736</td> <td> 0.001</td> <td>    0.263</td> <td>    0.904</td>\n",
       "</tr>\n",
       "</table>\n",
       "<table class=\"simpletable\">\n",
       "<tr>\n",
       "  <th>Omnibus:</th>       <td> 5.219</td> <th>  Durbin-Watson:     </th> <td>   1.909</td>\n",
       "</tr>\n",
       "<tr>\n",
       "  <th>Prob(Omnibus):</th> <td> 0.074</td> <th>  Jarque-Bera (JB):  </th> <td>   1.764</td>\n",
       "</tr>\n",
       "<tr>\n",
       "  <th>Skew:</th>          <td>-0.033</td> <th>  Prob(JB):          </th> <td>   0.414</td>\n",
       "</tr>\n",
       "<tr>\n",
       "  <th>Kurtosis:</th>      <td> 1.794</td> <th>  Cond. No.          </th> <td>    35.4</td>\n",
       "</tr>\n",
       "</table><br/><br/>Notes:<br/>[1] Standard Errors assume that the covariance matrix of the errors is correctly specified."
      ],
      "text/latex": [
       "\\begin{center}\n",
       "\\begin{tabular}{lclc}\n",
       "\\toprule\n",
       "\\textbf{Dep. Variable:}    & manual\\_distance\\_yourLocations & \\textbf{  R-squared:         } &     0.341   \\\\\n",
       "\\textbf{Model:}            &               OLS               & \\textbf{  Adj. R-squared:    } &     0.316   \\\\\n",
       "\\textbf{Method:}           &          Least Squares          & \\textbf{  F-statistic:       } &     13.96   \\\\\n",
       "\\textbf{Date:}             &         Thu, 11 Jan 2024        & \\textbf{  Prob (F-statistic):} &  0.000885   \\\\\n",
       "\\textbf{Time:}             &             15:37:09            & \\textbf{  Log-Likelihood:    } &   -96.705   \\\\\n",
       "\\textbf{No. Observations:} &                  29             & \\textbf{  AIC:               } &     197.4   \\\\\n",
       "\\textbf{Df Residuals:}     &                  27             & \\textbf{  BIC:               } &     200.1   \\\\\n",
       "\\textbf{Df Model:}         &                   1             & \\textbf{                     } &             \\\\\n",
       "\\textbf{Covariance Type:}  &            nonrobust            & \\textbf{                     } &             \\\\\n",
       "\\bottomrule\n",
       "\\end{tabular}\n",
       "\\begin{tabular}{lcccccc}\n",
       "                     & \\textbf{coef} & \\textbf{std err} & \\textbf{t} & \\textbf{P$> |$t$|$} & \\textbf{[0.025} & \\textbf{0.975]}  \\\\\n",
       "\\midrule\n",
       "\\textbf{Intercept}   &       6.2438  &        2.683     &     2.327  &         0.028        &        0.738    &       11.750     \\\\\n",
       "\\textbf{dist\\_miles} &       0.5837  &        0.156     &     3.736  &         0.001        &        0.263    &        0.904     \\\\\n",
       "\\bottomrule\n",
       "\\end{tabular}\n",
       "\\begin{tabular}{lclc}\n",
       "\\textbf{Omnibus:}       &  5.219 & \\textbf{  Durbin-Watson:     } &    1.909  \\\\\n",
       "\\textbf{Prob(Omnibus):} &  0.074 & \\textbf{  Jarque-Bera (JB):  } &    1.764  \\\\\n",
       "\\textbf{Skew:}          & -0.033 & \\textbf{  Prob(JB):          } &    0.414  \\\\\n",
       "\\textbf{Kurtosis:}      &  1.794 & \\textbf{  Cond. No.          } &     35.4  \\\\\n",
       "\\bottomrule\n",
       "\\end{tabular}\n",
       "%\\caption{OLS Regression Results}\n",
       "\\end{center}\n",
       "\n",
       "Notes: \\newline\n",
       " [1] Standard Errors assume that the covariance matrix of the errors is correctly specified."
      ],
      "text/plain": [
       "<class 'statsmodels.iolib.summary.Summary'>\n",
       "\"\"\"\n",
       "                                  OLS Regression Results                                 \n",
       "=========================================================================================\n",
       "Dep. Variable:     manual_distance_yourLocations   R-squared:                       0.341\n",
       "Model:                                       OLS   Adj. R-squared:                  0.316\n",
       "Method:                            Least Squares   F-statistic:                     13.96\n",
       "Date:                           Thu, 11 Jan 2024   Prob (F-statistic):           0.000885\n",
       "Time:                                   15:37:09   Log-Likelihood:                -96.705\n",
       "No. Observations:                             29   AIC:                             197.4\n",
       "Df Residuals:                                 27   BIC:                             200.1\n",
       "Df Model:                                      1                                         \n",
       "Covariance Type:                       nonrobust                                         \n",
       "==============================================================================\n",
       "                 coef    std err          t      P>|t|      [0.025      0.975]\n",
       "------------------------------------------------------------------------------\n",
       "Intercept      6.2438      2.683      2.327      0.028       0.738      11.750\n",
       "dist_miles     0.5837      0.156      3.736      0.001       0.263       0.904\n",
       "==============================================================================\n",
       "Omnibus:                        5.219   Durbin-Watson:                   1.909\n",
       "Prob(Omnibus):                  0.074   Jarque-Bera (JB):                1.764\n",
       "Skew:                          -0.033   Prob(JB):                        0.414\n",
       "Kurtosis:                       1.794   Cond. No.                         35.4\n",
       "==============================================================================\n",
       "\n",
       "Notes:\n",
       "[1] Standard Errors assume that the covariance matrix of the errors is correctly specified.\n",
       "\"\"\""
      ]
     },
     "execution_count": 3,
     "metadata": {},
     "output_type": "execute_result"
    }
   ],
   "source": [
    "# spearman correlation between hand distance and algorithm distance\n",
    "results = smf.ols('manual_distance_yourLocations ~ dist_miles', data=df.rank()).fit()\n",
    "results.summary()"
   ]
  },
  {
   "cell_type": "code",
   "execution_count": 4,
   "id": "8315569d-4e63-445c-9975-3e4f5fda5617",
   "metadata": {
    "tags": []
   },
   "outputs": [
    {
     "data": {
      "image/png": "[encoded data removed]",
      "text/plain": [
       "<Figure size 500x500 with 1 Axes>"
      ]
     },
     "metadata": {},
     "output_type": "display_data"
    }
   ],
   "source": [
    "# plot\n",
    "sns.lmplot(x='dist_miles', y='manual_distance_yourLocations', data=df)\n",
    "plt.tight_layout()\n",
    "plt.show()"
   ]
  },
  {
   "cell_type": "markdown",
   "id": "4d3c6097-9ac9-4fed-9468-6cf122c40307",
   "metadata": {},
   "source": [
    "## Group stats"
   ]
  },
  {
   "cell_type": "code",
   "execution_count": 5,
   "id": "97287978-80eb-402a-a3e7-52cd95fc5c2c",
   "metadata": {
    "tags": []
   },
   "outputs": [
    {
     "data": {
      "text/html": [
       "<div>\n",
       "<style scoped>\n",
       "    .dataframe tbody tr th:only-of-type {\n",
       "        vertical-align: middle;\n",
       "    }\n",
       "\n",
       "    .dataframe tbody tr th {\n",
       "        vertical-align: top;\n",
       "    }\n",
       "\n",
       "    .dataframe thead th {\n",
       "        text-align: right;\n",
       "    }\n",
       "</style>\n",
       "<table border=\"1\" class=\"dataframe\">\n",
       "  <thead>\n",
       "    <tr style=\"text-align: right;\">\n",
       "      <th></th>\n",
       "      <th>manual_mobility_rating</th>\n",
       "      <th>1</th>\n",
       "      <th>2</th>\n",
       "      <th>3</th>\n",
       "      <th>4</th>\n",
       "      <th>5</th>\n",
       "    </tr>\n",
       "  </thead>\n",
       "  <tbody>\n",
       "    <tr>\n",
       "      <th rowspan=\"8\" valign=\"top\">dist_miles</th>\n",
       "      <th>count</th>\n",
       "      <td>4.000000</td>\n",
       "      <td>9.000000</td>\n",
       "      <td>3.000000</td>\n",
       "      <td>4.000000</td>\n",
       "      <td>9.000000</td>\n",
       "    </tr>\n",
       "    <tr>\n",
       "      <th>mean</th>\n",
       "      <td>4023.012252</td>\n",
       "      <td>5410.940016</td>\n",
       "      <td>10423.624866</td>\n",
       "      <td>11072.105876</td>\n",
       "      <td>21160.008747</td>\n",
       "    </tr>\n",
       "    <tr>\n",
       "      <th>std</th>\n",
       "      <td>3258.418006</td>\n",
       "      <td>3891.640270</td>\n",
       "      <td>4595.181616</td>\n",
       "      <td>12000.510572</td>\n",
       "      <td>18419.424294</td>\n",
       "    </tr>\n",
       "    <tr>\n",
       "      <th>min</th>\n",
       "      <td>504.124849</td>\n",
       "      <td>350.917922</td>\n",
       "      <td>7703.657535</td>\n",
       "      <td>358.932131</td>\n",
       "      <td>287.246003</td>\n",
       "    </tr>\n",
       "    <tr>\n",
       "      <th>25%</th>\n",
       "      <td>2604.598045</td>\n",
       "      <td>2804.565522</td>\n",
       "      <td>7770.879414</td>\n",
       "      <td>1582.719388</td>\n",
       "      <td>7089.798078</td>\n",
       "    </tr>\n",
       "    <tr>\n",
       "      <th>50%</th>\n",
       "      <td>3606.438780</td>\n",
       "      <td>3847.740403</td>\n",
       "      <td>7838.101292</td>\n",
       "      <td>9275.548327</td>\n",
       "      <td>19525.294400</td>\n",
       "    </tr>\n",
       "    <tr>\n",
       "      <th>75%</th>\n",
       "      <td>5024.852987</td>\n",
       "      <td>8567.934735</td>\n",
       "      <td>11783.608531</td>\n",
       "      <td>18764.934815</td>\n",
       "      <td>35206.585120</td>\n",
       "    </tr>\n",
       "    <tr>\n",
       "      <th>max</th>\n",
       "      <td>8375.046600</td>\n",
       "      <td>12489.699570</td>\n",
       "      <td>15729.115770</td>\n",
       "      <td>25378.394720</td>\n",
       "      <td>56459.330070</td>\n",
       "    </tr>\n",
       "    <tr>\n",
       "      <th rowspan=\"8\" valign=\"top\">manual_distance_yourLocations</th>\n",
       "      <th>count</th>\n",
       "      <td>4.000000</td>\n",
       "      <td>9.000000</td>\n",
       "      <td>3.000000</td>\n",
       "      <td>4.000000</td>\n",
       "      <td>9.000000</td>\n",
       "    </tr>\n",
       "    <tr>\n",
       "      <th>mean</th>\n",
       "      <td>3438.325000</td>\n",
       "      <td>1572.195556</td>\n",
       "      <td>5276.883333</td>\n",
       "      <td>10230.095000</td>\n",
       "      <td>39813.637778</td>\n",
       "    </tr>\n",
       "    <tr>\n",
       "      <th>std</th>\n",
       "      <td>6653.333680</td>\n",
       "      <td>2692.135324</td>\n",
       "      <td>5986.345811</td>\n",
       "      <td>5663.914290</td>\n",
       "      <td>26406.121423</td>\n",
       "    </tr>\n",
       "    <tr>\n",
       "      <th>min</th>\n",
       "      <td>0.000000</td>\n",
       "      <td>0.000000</td>\n",
       "      <td>19.200000</td>\n",
       "      <td>5642.770000</td>\n",
       "      <td>7546.830000</td>\n",
       "    </tr>\n",
       "    <tr>\n",
       "      <th>25%</th>\n",
       "      <td>92.520000</td>\n",
       "      <td>30.000000</td>\n",
       "      <td>2019.275000</td>\n",
       "      <td>7622.222500</td>\n",
       "      <td>19924.850000</td>\n",
       "    </tr>\n",
       "    <tr>\n",
       "      <th>50%</th>\n",
       "      <td>167.915000</td>\n",
       "      <td>376.490000</td>\n",
       "      <td>4019.350000</td>\n",
       "      <td>8388.770000</td>\n",
       "      <td>32964.790000</td>\n",
       "    </tr>\n",
       "    <tr>\n",
       "      <th>75%</th>\n",
       "      <td>3513.720000</td>\n",
       "      <td>764.600000</td>\n",
       "      <td>7905.725000</td>\n",
       "      <td>10996.642500</td>\n",
       "      <td>55959.570000</td>\n",
       "    </tr>\n",
       "    <tr>\n",
       "      <th>max</th>\n",
       "      <td>13417.470000</td>\n",
       "      <td>7267.380000</td>\n",
       "      <td>11792.100000</td>\n",
       "      <td>18500.070000</td>\n",
       "      <td>87048.700000</td>\n",
       "    </tr>\n",
       "    <tr>\n",
       "      <th rowspan=\"8\" valign=\"top\">manual_mobility_rating</th>\n",
       "      <th>count</th>\n",
       "      <td>4.000000</td>\n",
       "      <td>9.000000</td>\n",
       "      <td>3.000000</td>\n",
       "      <td>4.000000</td>\n",
       "      <td>9.000000</td>\n",
       "    </tr>\n",
       "    <tr>\n",
       "      <th>mean</th>\n",
       "      <td>1.000000</td>\n",
       "      <td>2.000000</td>\n",
       "      <td>3.000000</td>\n",
       "      <td>4.000000</td>\n",
       "      <td>5.000000</td>\n",
       "    </tr>\n",
       "    <tr>\n",
       "      <th>std</th>\n",
       "      <td>0.000000</td>\n",
       "      <td>0.000000</td>\n",
       "      <td>0.000000</td>\n",
       "      <td>0.000000</td>\n",
       "      <td>0.000000</td>\n",
       "    </tr>\n",
       "    <tr>\n",
       "      <th>min</th>\n",
       "      <td>1.000000</td>\n",
       "      <td>2.000000</td>\n",
       "      <td>3.000000</td>\n",
       "      <td>4.000000</td>\n",
       "      <td>5.000000</td>\n",
       "    </tr>\n",
       "    <tr>\n",
       "      <th>25%</th>\n",
       "      <td>1.000000</td>\n",
       "      <td>2.000000</td>\n",
       "      <td>3.000000</td>\n",
       "      <td>4.000000</td>\n",
       "      <td>5.000000</td>\n",
       "    </tr>\n",
       "    <tr>\n",
       "      <th>50%</th>\n",
       "      <td>1.000000</td>\n",
       "      <td>2.000000</td>\n",
       "      <td>3.000000</td>\n",
       "      <td>4.000000</td>\n",
       "      <td>5.000000</td>\n",
       "    </tr>\n",
       "    <tr>\n",
       "      <th>75%</th>\n",
       "      <td>1.000000</td>\n",
       "      <td>2.000000</td>\n",
       "      <td>3.000000</td>\n",
       "      <td>4.000000</td>\n",
       "      <td>5.000000</td>\n",
       "    </tr>\n",
       "    <tr>\n",
       "      <th>max</th>\n",
       "      <td>1.000000</td>\n",
       "      <td>2.000000</td>\n",
       "      <td>3.000000</td>\n",
       "      <td>4.000000</td>\n",
       "      <td>5.000000</td>\n",
       "    </tr>\n",
       "  </tbody>\n",
       "</table>\n",
       "</div>"
      ],
      "text/plain": [
       "manual_mobility_rating                          1             2             3  \\\n",
       "dist_miles                    count      4.000000      9.000000      3.000000   \n",
       "                              mean    4023.012252   5410.940016  10423.624866   \n",
       "                              std     3258.418006   3891.640270   4595.181616   \n",
       "                              min      504.124849    350.917922   7703.657535   \n",
       "                              25%     2604.598045   2804.565522   7770.879414   \n",
       "                              50%     3606.438780   3847.740403   7838.101292   \n",
       "                              75%     5024.852987   8567.934735  11783.608531   \n",
       "                              max     8375.046600  12489.699570  15729.115770   \n",
       "manual_distance_yourLocations count      4.000000      9.000000      3.000000   \n",
       "                              mean    3438.325000   1572.195556   5276.883333   \n",
       "                              std     6653.333680   2692.135324   5986.345811   \n",
       "                              min        0.000000      0.000000     19.200000   \n",
       "                              25%       92.520000     30.000000   2019.275000   \n",
       "                              50%      167.915000    376.490000   4019.350000   \n",
       "                              75%     3513.720000    764.600000   7905.725000   \n",
       "                              max    13417.470000   7267.380000  11792.100000   \n",
       "manual_mobility_rating        count      4.000000      9.000000      3.000000   \n",
       "                              mean       1.000000      2.000000      3.000000   \n",
       "                              std        0.000000      0.000000      0.000000   \n",
       "                              min        1.000000      2.000000      3.000000   \n",
       "                              25%        1.000000      2.000000      3.000000   \n",
       "                              50%        1.000000      2.000000      3.000000   \n",
       "                              75%        1.000000      2.000000      3.000000   \n",
       "                              max        1.000000      2.000000      3.000000   \n",
       "\n",
       "manual_mobility_rating                          4             5  \n",
       "dist_miles                    count      4.000000      9.000000  \n",
       "                              mean   11072.105876  21160.008747  \n",
       "                              std    12000.510572  18419.424294  \n",
       "                              min      358.932131    287.246003  \n",
       "                              25%     1582.719388   7089.798078  \n",
       "                              50%     9275.548327  19525.294400  \n",
       "                              75%    18764.934815  35206.585120  \n",
       "                              max    25378.394720  56459.330070  \n",
       "manual_distance_yourLocations count      4.000000      9.000000  \n",
       "                              mean   10230.095000  39813.637778  \n",
       "                              std     5663.914290  26406.121423  \n",
       "                              min     5642.770000   7546.830000  \n",
       "                              25%     7622.222500  19924.850000  \n",
       "                              50%     8388.770000  32964.790000  \n",
       "                              75%    10996.642500  55959.570000  \n",
       "                              max    18500.070000  87048.700000  \n",
       "manual_mobility_rating        count      4.000000      9.000000  \n",
       "                              mean       4.000000      5.000000  \n",
       "                              std        0.000000      0.000000  \n",
       "                              min        4.000000      5.000000  \n",
       "                              25%        4.000000      5.000000  \n",
       "                              50%        4.000000      5.000000  \n",
       "                              75%        4.000000      5.000000  \n",
       "                              max        4.000000      5.000000  "
      ]
     },
     "execution_count": 5,
     "metadata": {},
     "output_type": "execute_result"
    }
   ],
   "source": [
    "df.groupby('manual_mobility_rating')[manual_cols].describe().T"
   ]
  },
  {
   "cell_type": "code",
   "execution_count": 18,
   "id": "b3c27717-7921-4ae9-9fdb-b67abefdccc6",
   "metadata": {
    "tags": []
   },
   "outputs": [
    {
     "name": "stdout",
     "output_type": "stream",
     "text": [
      "High mobility mean dist_miles: 18056.0\n",
      "Low mobility mean dist_miles:   4983.9\n",
      "Ratio of means:                    3.62\n",
      "Difference in means p-value:       0.0080 **\n"
     ]
    }
   ],
   "source": [
    "# significance of difference between high and low mobility volumes\n",
    "def significance_label(pvalue, levels=[0.05, 0.01, 0.001]):\n",
    "    if pvalue < levels[2]:\n",
    "        return '***'\n",
    "    elif pvalue < levels[1]:\n",
    "        return '**'\n",
    "    elif pvalue < levels[0]:\n",
    "        return '*'\n",
    "    else: \n",
    "        return ''\n",
    "\n",
    "def diff_mean(x, y, axis):\n",
    "    return np.mean(x, axis=axis) - np.mean(y, axis=axis)\n",
    "\n",
    "high_mobility = df.loc[df.manual_mobility_rating >= 4, 'dist_miles'] # rating 4 or 5\n",
    "low_mobility  = df.loc[df.manual_mobility_rating <= 2, 'dist_miles']  # rating 1 or 2\n",
    "res = permutation_test(\n",
    "    [high_mobility, low_mobility],\n",
    "    statistic=diff_mean\n",
    ")\n",
    "print(f'High mobility mean dist_miles: {high_mobility.mean():>7.1f}')\n",
    "print(f'Low mobility mean dist_miles:  {low_mobility.mean():>7.1f}')\n",
    "print(f'Ratio of means:                {high_mobility.mean()/low_mobility.mean():>8.2f}')\n",
    "print(f'Difference in means p-value:   {res.pvalue:>10.4f} {significance_label(res.pvalue)}')"
   ]
  },
  {
   "cell_type": "markdown",
   "id": "15cbcb94-0c3e-4c1b-8fab-e2befc3b940c",
   "metadata": {},
   "source": [
    "## Noise estimation"
   ]
  },
  {
   "cell_type": "code",
   "execution_count": 7,
   "id": "5e34c445-51af-4ec4-a306-74c2e2c14493",
   "metadata": {
    "tags": []
   },
   "outputs": [
    {
     "data": {
      "image/png": "[encoded data removed]",
      "text/plain": [
       "<Figure size 500x500 with 1 Axes>"
      ]
     },
     "metadata": {},
     "output_type": "display_data"
    },
    {
     "data": {
      "image/png": "[encoded data removed]",
      "text/plain": [
       "<Figure size 500x500 with 1 Axes>"
      ]
     },
     "metadata": {},
     "output_type": "display_data"
    }
   ],
   "source": [
    "df['error_miles'] = df['manual_distance_yourLocations'] - df['dist_miles']\n",
    "df['error_pct'] = df['error_miles'].divide(df['dist_miles'])\n",
    "sns.lmplot(x='dist_miles', y='error_miles', data=df, robust=True);\n",
    "sns.lmplot(x='dist_miles', y='error_pct', data=df, robust=True);"
   ]
  },
  {
   "cell_type": "code",
   "execution_count": 8,
   "id": "ec5c7740-c374-4270-8a7e-46324a650903",
   "metadata": {
    "tags": []
   },
   "outputs": [
    {
     "data": {
      "text/html": [
       "<table class=\"simpletable\">\n",
       "<caption>OLS Regression Results</caption>\n",
       "<tr>\n",
       "  <th>Dep. Variable:</th>       <td>error_miles</td>   <th>  R-squared:         </th> <td>   0.041</td>\n",
       "</tr>\n",
       "<tr>\n",
       "  <th>Model:</th>                   <td>OLS</td>       <th>  Adj. R-squared:    </th> <td>   0.006</td>\n",
       "</tr>\n",
       "<tr>\n",
       "  <th>Method:</th>             <td>Least Squares</td>  <th>  F-statistic:       </th> <td>   1.157</td>\n",
       "</tr>\n",
       "<tr>\n",
       "  <th>Date:</th>             <td>Thu, 11 Jan 2024</td> <th>  Prob (F-statistic):</th>  <td> 0.292</td> \n",
       "</tr>\n",
       "<tr>\n",
       "  <th>Time:</th>                 <td>15:37:12</td>     <th>  Log-Likelihood:    </th> <td> -320.29</td>\n",
       "</tr>\n",
       "<tr>\n",
       "  <th>No. Observations:</th>      <td>    29</td>      <th>  AIC:               </th> <td>   644.6</td>\n",
       "</tr>\n",
       "<tr>\n",
       "  <th>Df Residuals:</th>          <td>    27</td>      <th>  BIC:               </th> <td>   647.3</td>\n",
       "</tr>\n",
       "<tr>\n",
       "  <th>Df Model:</th>              <td>     1</td>      <th>                     </th>     <td> </td>   \n",
       "</tr>\n",
       "<tr>\n",
       "  <th>Covariance Type:</th>      <td>nonrobust</td>    <th>                     </th>     <td> </td>   \n",
       "</tr>\n",
       "</table>\n",
       "<table class=\"simpletable\">\n",
       "<tr>\n",
       "       <td></td>         <th>coef</th>     <th>std err</th>      <th>t</th>      <th>P>|t|</th>  <th>[0.025</th>    <th>0.975]</th>  \n",
       "</tr>\n",
       "<tr>\n",
       "  <th>Intercept</th>  <td> 1071.4337</td> <td> 3906.462</td> <td>    0.274</td> <td> 0.786</td> <td>-6943.965</td> <td> 9086.832</td>\n",
       "</tr>\n",
       "<tr>\n",
       "  <th>dist_miles</th> <td>    0.2452</td> <td>    0.228</td> <td>    1.076</td> <td> 0.292</td> <td>   -0.223</td> <td>    0.713</td>\n",
       "</tr>\n",
       "</table>\n",
       "<table class=\"simpletable\">\n",
       "<tr>\n",
       "  <th>Omnibus:</th>       <td>31.833</td> <th>  Durbin-Watson:     </th> <td>   1.999</td>\n",
       "</tr>\n",
       "<tr>\n",
       "  <th>Prob(Omnibus):</th> <td> 0.000</td> <th>  Jarque-Bera (JB):  </th> <td>  82.745</td>\n",
       "</tr>\n",
       "<tr>\n",
       "  <th>Skew:</th>          <td> 2.228</td> <th>  Prob(JB):          </th> <td>1.08e-18</td>\n",
       "</tr>\n",
       "<tr>\n",
       "  <th>Kurtosis:</th>      <td> 9.973</td> <th>  Cond. No.          </th> <td>2.30e+04</td>\n",
       "</tr>\n",
       "</table><br/><br/>Notes:<br/>[1] Standard Errors assume that the covariance matrix of the errors is correctly specified.<br/>[2] The condition number is large, 2.3e+04. This might indicate that there are<br/>strong multicollinearity or other numerical problems."
      ],
      "text/latex": [
       "\\begin{center}\n",
       "\\begin{tabular}{lclc}\n",
       "\\toprule\n",
       "\\textbf{Dep. Variable:}    &   error\\_miles   & \\textbf{  R-squared:         } &     0.041   \\\\\n",
       "\\textbf{Model:}            &       OLS        & \\textbf{  Adj. R-squared:    } &     0.006   \\\\\n",
       "\\textbf{Method:}           &  Least Squares   & \\textbf{  F-statistic:       } &     1.157   \\\\\n",
       "\\textbf{Date:}             & Thu, 11 Jan 2024 & \\textbf{  Prob (F-statistic):} &    0.292    \\\\\n",
       "\\textbf{Time:}             &     15:37:12     & \\textbf{  Log-Likelihood:    } &   -320.29   \\\\\n",
       "\\textbf{No. Observations:} &          29      & \\textbf{  AIC:               } &     644.6   \\\\\n",
       "\\textbf{Df Residuals:}     &          27      & \\textbf{  BIC:               } &     647.3   \\\\\n",
       "\\textbf{Df Model:}         &           1      & \\textbf{                     } &             \\\\\n",
       "\\textbf{Covariance Type:}  &    nonrobust     & \\textbf{                     } &             \\\\\n",
       "\\bottomrule\n",
       "\\end{tabular}\n",
       "\\begin{tabular}{lcccccc}\n",
       "                     & \\textbf{coef} & \\textbf{std err} & \\textbf{t} & \\textbf{P$> |$t$|$} & \\textbf{[0.025} & \\textbf{0.975]}  \\\\\n",
       "\\midrule\n",
       "\\textbf{Intercept}   &    1071.4337  &     3906.462     &     0.274  &         0.786        &    -6943.965    &     9086.832     \\\\\n",
       "\\textbf{dist\\_miles} &       0.2452  &        0.228     &     1.076  &         0.292        &       -0.223    &        0.713     \\\\\n",
       "\\bottomrule\n",
       "\\end{tabular}\n",
       "\\begin{tabular}{lclc}\n",
       "\\textbf{Omnibus:}       & 31.833 & \\textbf{  Durbin-Watson:     } &    1.999  \\\\\n",
       "\\textbf{Prob(Omnibus):} &  0.000 & \\textbf{  Jarque-Bera (JB):  } &   82.745  \\\\\n",
       "\\textbf{Skew:}          &  2.228 & \\textbf{  Prob(JB):          } & 1.08e-18  \\\\\n",
       "\\textbf{Kurtosis:}      &  9.973 & \\textbf{  Cond. No.          } & 2.30e+04  \\\\\n",
       "\\bottomrule\n",
       "\\end{tabular}\n",
       "%\\caption{OLS Regression Results}\n",
       "\\end{center}\n",
       "\n",
       "Notes: \\newline\n",
       " [1] Standard Errors assume that the covariance matrix of the errors is correctly specified. \\newline\n",
       " [2] The condition number is large, 2.3e+04. This might indicate that there are \\newline\n",
       " strong multicollinearity or other numerical problems."
      ],
      "text/plain": [
       "<class 'statsmodels.iolib.summary.Summary'>\n",
       "\"\"\"\n",
       "                            OLS Regression Results                            \n",
       "==============================================================================\n",
       "Dep. Variable:            error_miles   R-squared:                       0.041\n",
       "Model:                            OLS   Adj. R-squared:                  0.006\n",
       "Method:                 Least Squares   F-statistic:                     1.157\n",
       "Date:                Thu, 11 Jan 2024   Prob (F-statistic):              0.292\n",
       "Time:                        15:37:12   Log-Likelihood:                -320.29\n",
       "No. Observations:                  29   AIC:                             644.6\n",
       "Df Residuals:                      27   BIC:                             647.3\n",
       "Df Model:                           1                                         \n",
       "Covariance Type:            nonrobust                                         \n",
       "==============================================================================\n",
       "                 coef    std err          t      P>|t|      [0.025      0.975]\n",
       "------------------------------------------------------------------------------\n",
       "Intercept   1071.4337   3906.462      0.274      0.786   -6943.965    9086.832\n",
       "dist_miles     0.2452      0.228      1.076      0.292      -0.223       0.713\n",
       "==============================================================================\n",
       "Omnibus:                       31.833   Durbin-Watson:                   1.999\n",
       "Prob(Omnibus):                  0.000   Jarque-Bera (JB):               82.745\n",
       "Skew:                           2.228   Prob(JB):                     1.08e-18\n",
       "Kurtosis:                       9.973   Cond. No.                     2.30e+04\n",
       "==============================================================================\n",
       "\n",
       "Notes:\n",
       "[1] Standard Errors assume that the covariance matrix of the errors is correctly specified.\n",
       "[2] The condition number is large, 2.3e+04. This might indicate that there are\n",
       "strong multicollinearity or other numerical problems.\n",
       "\"\"\""
      ]
     },
     "execution_count": 8,
     "metadata": {},
     "output_type": "execute_result"
    }
   ],
   "source": [
    "# pearson correlation between dist_miles and error_miles\n",
    "results = smf.ols('error_miles ~ dist_miles', data=df).fit()\n",
    "results.summary()"
   ]
  },
  {
   "cell_type": "code",
   "execution_count": 9,
   "id": "a488a363-2f61-45ac-b60c-dbf8cd820a10",
   "metadata": {
    "tags": []
   },
   "outputs": [
    {
     "data": {
      "image/png": "[encoded data removed]",
      "text/plain": [
       "<Figure size 640x480 with 1 Axes>"
      ]
     },
     "metadata": {},
     "output_type": "display_data"
    }
   ],
   "source": [
    "count, bins, _ = plt.hist(df['error_miles'], bins=30)"
   ]
  },
  {
   "cell_type": "markdown",
   "id": "486e9412-d4ba-4410-ab9c-cff0830a8ca2",
   "metadata": {},
   "source": [
    "Could probably use a gamma function to fit this noise, if we made it strictly positive. But it's so sparse that I doubt I'd trust the parameters ..."
   ]
  },
  {
   "cell_type": "markdown",
   "id": "d29e5ec3-c145-4c6e-8aae-d7d805aade56",
   "metadata": {},
   "source": [
    "## Simulate some noisy data"
   ]
  },
  {
   "cell_type": "code",
   "execution_count": 10,
   "id": "9e53dc8d-208f-498d-9ce7-c8a8f88a7c16",
   "metadata": {
    "tags": []
   },
   "outputs": [
    {
     "name": "stdout",
     "output_type": "stream",
     "text": [
      "Mean true data:  1.0083197997605382\n",
      "Mean noise:      1.019085597921287\n",
      "Mean abs(noise): 1.437875083941409\n",
      "\n",
      " True p-value: 0.0002\n",
      "Noisy p-value: 0.0136\n"
     ]
    }
   ],
   "source": [
    "#x_true = np.random.normal(loc=1.0, scale=1.0, size=1000)\n",
    "#y_true = np.random.normal(loc=1.1, scale=1.0, size=1000)\n",
    "\n",
    "x_true = np.random.default_rng().gamma(shape=1.0, scale=1.0, size=1000)\n",
    "y_true = np.random.default_rng().gamma(shape=1.0, scale=1.0, size=1000) + 0.3\n",
    "\n",
    "x_noisy = x_true + np.random.default_rng().gamma(shape=3.0, scale=1.0, size=1000) - 2.0\n",
    "y_noisy = y_true + np.random.default_rng().gamma(shape=3.0, scale=1.0, size=1000) - 2.0\n",
    "\n",
    "print(f'Mean true data:  {np.mean(x_true)}')\n",
    "print(f'Mean noise:      {np.mean(np.random.default_rng().gamma(shape=3.0, scale=1.0, size=1000) - 2.0)}')\n",
    "print(f'Mean abs(noise): {np.mean([abs(i) for i in np.random.default_rng().gamma(shape=3.0, scale=1.0, size=1000) - 2.0])}')\n",
    "\n",
    "result_true = permutation_test((x_true, y_true), statistic=diff_mean)\n",
    "print('\\n True p-value:', result_true.pvalue)\n",
    "result_noisy = permutation_test((x_noisy, y_noisy), statistic=diff_mean)\n",
    "print('Noisy p-value:', result_noisy.pvalue)"
   ]
  },
  {
   "cell_type": "code",
   "execution_count": 11,
   "id": "9ebeae76-4b73-4bd9-afd8-e3a8ec0dc6a6",
   "metadata": {
    "tags": []
   },
   "outputs": [
    {
     "data": {
      "image/png": "[encoded data removed]",
      "text/plain": [
       "<Figure size 640x480 with 1 Axes>"
      ]
     },
     "metadata": {},
     "output_type": "display_data"
    }
   ],
   "source": [
    "plt.hist(np.random.default_rng().gamma(shape=3.0, scale=1, size=1000)-2, bins=30);"
   ]
  },
  {
   "cell_type": "code",
   "execution_count": 12,
   "id": "28331fd4-d26f-43e2-8733-023f05a6d6db",
   "metadata": {
    "tags": []
   },
   "outputs": [
    {
     "name": "stdout",
     "output_type": "stream",
     "text": [
      "  100 trials complete\n",
      "  200 trials complete\n",
      "  300 trials complete\n",
      "  400 trials complete\n",
      "  500 trials complete\n",
      "  600 trials complete\n",
      "  700 trials complete\n",
      "  800 trials complete\n",
      "  900 trials complete\n",
      " 1000 trials complete\n",
      "CPU times: user 1min 58s, sys: 13 s, total: 2min 11s\n",
      "Wall time: 2min 11s\n"
     ]
    }
   ],
   "source": [
    "%%time\n",
    "# run many trials\n",
    "\n",
    "simulated_pvalues = []\n",
    "trials_complete = 0\n",
    "\n",
    "for trial in range(1000):\n",
    "    x_true = np.random.normal(loc=1.0, scale=1.0, size=1000)\n",
    "    y_true = np.random.normal(loc=1.1, scale=1.0, size=1000)\n",
    "    result_true = permutation_test((x_true, y_true), statistic=diff_mean, n_resamples=2500)\n",
    "    true_p = result_true.pvalue\n",
    "    \n",
    "    x_noisy = x_true + np.random.default_rng().gamma(shape=3.0, scale=0.1, size=1000) - 0.2\n",
    "    y_noisy = y_true + np.random.default_rng().gamma(shape=3.0, scale=0.1, size=1000) - 0.2\n",
    "    result_noisy = permutation_test((x_noisy, y_noisy), statistic=diff_mean, n_resamples=2500)\n",
    "    noisy_p = result_noisy.pvalue\n",
    "    \n",
    "    simulated_pvalues.append((true_p, noisy_p))\n",
    "    trials_complete +=1\n",
    "    if trials_complete%100==0:\n",
    "        print(f'{trials_complete: >5} trials complete')"
   ]
  },
  {
   "cell_type": "code",
   "execution_count": 13,
   "id": "0f689189-5c8d-40c8-86e0-9616811d8a32",
   "metadata": {
    "tags": []
   },
   "outputs": [
    {
     "name": "stdout",
     "output_type": "stream",
     "text": [
      "Fraction of noisy trials with p smaller than true value: 0.401\n"
     ]
    }
   ],
   "source": [
    "noisy_smaller = 0\n",
    "for truep, noisyp in simulated_pvalues:\n",
    "    if noisyp < truep:\n",
    "        noisy_smaller += 1\n",
    "print(f'Fraction of noisy trials with p smaller than true value: {noisy_smaller/len(simulated_pvalues)}') "
   ]
  },
  {
   "cell_type": "code",
   "execution_count": 14,
   "id": "cbd2a57e-e935-462b-964d-46f7feca738f",
   "metadata": {
    "tags": []
   },
   "outputs": [
    {
     "name": "stdout",
     "output_type": "stream",
     "text": [
      "Fraction of noisy trials with p smaller than true value and significance flips: 0.024\n"
     ]
    }
   ],
   "source": [
    "noisy_smaller = 0\n",
    "for truep, noisyp in simulated_pvalues:\n",
    "    if (noisyp < 0.01) and (truep > 0.01):\n",
    "        noisy_smaller += 1\n",
    "print(f'Fraction of noisy trials with p smaller than true value and significance flips: {noisy_smaller/len(simulated_pvalues)}') "
   ]
  },
  {
   "cell_type": "code",
   "execution_count": 15,
   "id": "389e2ca1-3274-43b5-ab53-6ee363037ea2",
   "metadata": {
    "tags": []
   },
   "outputs": [
    {
     "name": "stdout",
     "output_type": "stream",
     "text": [
      "Fraction of noisy trials with p much smaller than true value and significance flips: 0.0\n"
     ]
    }
   ],
   "source": [
    "noisy_smaller = 0\n",
    "for truep, noisyp in simulated_pvalues:\n",
    "    if (noisyp < 0.01) and (truep > 0.05):\n",
    "        noisy_smaller += 1\n",
    "print(f'Fraction of noisy trials with p much smaller than true value and significance flips: {noisy_smaller/len(simulated_pvalues)}') "
   ]
  },
  {
   "cell_type": "code",
   "execution_count": 16,
   "id": "9f17e1cb-da97-4428-9f1f-a22d8d080be9",
   "metadata": {
    "tags": []
   },
   "outputs": [
    {
     "name": "stdout",
     "output_type": "stream",
     "text": [
      "Pct. improvement of avg. true p relative to noisy p: 4.44%\n"
     ]
    }
   ],
   "source": [
    "trus, nois = zip(*simulated_pvalues)\n",
    "print(f'Pct. improvement of avg. true p relative to noisy p: {100*(np.mean(nois) - np.mean(trus))/np.mean(nois):0.2f}%')"
   ]
  }
 ],
 "metadata": {
  "kernelspec": {
   "display_name": "Python 3 (ipykernel)",
   "language": "python",
   "name": "python3"
  },
  "language_info": {
   "codemirror_mode": {
    "name": "ipython",
    "version": 3
   },
   "file_extension": ".py",
   "mimetype": "text/x-python",
   "name": "python",
   "nbconvert_exporter": "python",
   "pygments_lexer": "ipython3",
   "version": "3.10.13"
  }
 },
 "nbformat": 4,
 "nbformat_minor": 5
}
